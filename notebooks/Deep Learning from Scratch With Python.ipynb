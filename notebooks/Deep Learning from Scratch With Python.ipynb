{
 "cells": [
  {
   "cell_type": "markdown",
   "metadata": {},
   "source": [
    "# Deep Learning from Scratch With Python\n",
    "\n",
    "This post describes the steps involved in deep learning, with a practical example, written in Python.  The code creates a multi layer neural network with logistic regression. This system will be trained with a set of images of handwritten digits and then be tested with a different set of images to see if it can identify the digits.\n",
    "\n",
    "This is not a complete guide to Machine Learning or Deep Learning, but just one example, offered without rigorous proof of the equations used. If you're looking for a course on the subject, [Andrew Ng's Machine Learning course on Coursera](https://www.coursera.org/learn/machine-learning) would be a very good and popular choice.\n",
    "\n",
    "The 4 layers of this example neural network are:\n",
    " \n",
    "1. Input layer of 256 inputs\n",
    "1. Hidden layer of 30 nodes\n",
    "1. Hidden layer of 20 nodes\n",
    "1. Output layer of 10 outputs\n",
    "\n",
    "\"nodes\" and \"layers\" are merely names used to conceptualize the mathematics.  In the code, the numbers of layers and nodes simply translate to the sizes of the weights arrays. These arrays store the \"learned\" information of the system.\n",
    "\n",
    "There are some great machine learning/deep learning libraries for Python, such as [scikit-learn](http://scikit-learn.org/stable/), [TensorFlow](https://www.tensorflow.org) and [Theano](http://deeplearning.net/software/theano/).  To better illustrate deep learning, we are not going to use these libraries, but instead code the system from scratch. "
   ]
  },
  {
   "cell_type": "markdown",
   "metadata": {},
   "source": [
    "The only Python libraries needed are numpy for matrix manipulation, matplotlib for plotting the data, random to initiate the weights, and urllib to pull down the data from a URL:"
   ]
  },
  {
   "cell_type": "code",
   "execution_count": 1,
   "metadata": {
    "collapsed": true
   },
   "outputs": [],
   "source": [
    "import numpy as np\n",
    "from numpy import genfromtxt\n",
    "import matplotlib.pyplot as plt\n",
    "import matplotlib.image as mpimg\n",
    "import random\n",
    "import urllib"
   ]
  },
  {
   "cell_type": "markdown",
   "metadata": {},
   "source": [
    "### Sigmoid Function\n",
    "\n",
    "The sigmoid function outputs a value between zero and one from an input between $-\\infty$ and $\\infty$. It is used to take an input and turn it into an activation value for a \"neuron\". or node.\n",
    "\n",
    "$ h_\\theta (x) = g(\\theta^T x) = g(z) = \\dfrac{1}{1 + e^{-z}} = \\dfrac{1}{1 + e^{-\\theta^T x}}$"
   ]
  },
  {
   "cell_type": "code",
   "execution_count": 2,
   "metadata": {
    "collapsed": true
   },
   "outputs": [],
   "source": [
    "def sigmoid(z):\n",
    "    return 1.0 /(1.0 + np.exp(-z))"
   ]
  },
  {
   "cell_type": "markdown",
   "metadata": {},
   "source": [
    "### Partial Derivative of the Sigmoid Function\n",
    "\n",
    "Later, we use gradient decent to make corrections to the weights. This is how the system learns. \"_Gradient_ decent\" suggests differentials, and indeed, we will need the partial differential of the sigmoid function:\n",
    "\n",
    "$ \\dfrac{dg(z)}{dz} = g(z) (1 - g(z))$"
   ]
  },
  {
   "cell_type": "code",
   "execution_count": 3,
   "metadata": {
    "collapsed": true
   },
   "outputs": [],
   "source": [
    "def sigmoidDerivative(z):\n",
    "  return sigmoid(z) * (1 - sigmoid(z));"
   ]
  },
  {
   "cell_type": "markdown",
   "metadata": {},
   "source": [
    "The system uses \"weights\" to determine the influence of each activation value on the output of each neuron.  It is these weights which are altered during the learning phases.  To start with, these will be initialized to random values.  If we initialized the weights to zero, the system would not be able to form suitable differentials between the neurons.\n",
    "\n",
    "This function creates a 2D array of random weights, $w$ where $ -1 \\le w_{ij} \\le 1 $"
   ]
  },
  {
   "cell_type": "code",
   "execution_count": 4,
   "metadata": {
    "collapsed": true
   },
   "outputs": [],
   "source": [
    "def initWeights(numInputs,numOutputs):\n",
    "    return 2 * np.random.random((numInputs,numOutputs)) - 1"
   ]
  },
  {
   "cell_type": "markdown",
   "metadata": {},
   "source": [
    "\"Bias terms\" are used to add extra weighing to the inputs.  Think of these as the intercept point of the linear equations.\n",
    "\n",
    "This function prepends a column of ones to an array for adding bias terms to inputs."
   ]
  },
  {
   "cell_type": "code",
   "execution_count": 5,
   "metadata": {
    "collapsed": true
   },
   "outputs": [],
   "source": [
    "def addOnes(arr):\n",
    "    ones = np.ones((arr.shape[0],1))\n",
    "    return  np.insert(arr,[0],ones,axis=1)"
   ]
  },
  {
   "cell_type": "markdown",
   "metadata": {},
   "source": [
    "This function prepends a column of zeros to an array. This is to remove the influence of the bias term weights later on for regularization."
   ]
  },
  {
   "cell_type": "code",
   "execution_count": 6,
   "metadata": {
    "collapsed": true
   },
   "outputs": [],
   "source": [
    "def addZeros(arr):\n",
    "    zeros = np.zeros((arr.shape[0],1))\n",
    "    return  np.insert(arr,[0],zeros,axis=1)"
   ]
  },
  {
   "cell_type": "markdown",
   "metadata": {},
   "source": [
    "Our system is designed to predict boolean outputs of either zero or one.  However, the sigmoid function outputs a number somewhere between zero and one. This output is the probability that Y is one, so we simply return one if the sigmoid function output is greater than half, otherwise we return zero."
   ]
  },
  {
   "cell_type": "code",
   "execution_count": 7,
   "metadata": {
    "collapsed": true
   },
   "outputs": [],
   "source": [
    "def convertOutputs(outputs):\n",
    "    return (outputs > 0.5).astype(int)"
   ]
  },
  {
   "cell_type": "markdown",
   "metadata": {},
   "source": [
    "### Prediction\n",
    "\n",
    "The \"predict\" function uses the weighted terms and inputs to predict outputs for each layer in the neural network.\n",
    "\n",
    "For each layer:\n",
    "\n",
    "$ h_\\theta (x) = g(\\theta X)$\n",
    "\n",
    "where:\n",
    "* $g$ is the sigmoid function\n",
    "* $h_\\theta$ is the hypothesis function (output) for each layer\n",
    "* $x$ are the inputs on each neuron\n",
    "* $\\theta$ are the weights\n",
    "\n",
    "Output:\n",
    "\n",
    "* list of activations per layer (for every sample)\n",
    "* weighted outputs per layer (for every sample)\n",
    "* last layer outputs (per sample)"
   ]
  },
  {
   "cell_type": "code",
   "execution_count": 8,
   "metadata": {
    "collapsed": true
   },
   "outputs": [],
   "source": [
    "# X is an array of inputs per sample\n",
    "# thetas is a list of 2D weights for each layer\n",
    "def predict(X,thetas):\n",
    "    \n",
    "    activations       = []  # net inputs on each neuron per layer\n",
    "    weighted_outputs  = [] # weighted outputs from each neuron per layer\n",
    "    \n",
    "    a = X # First set of activations are the inputs\n",
    "    \n",
    "    for theta in thetas:\n",
    "        a_bias = addOnes(a)      # add bias terms to activations\n",
    "        activations.append(a_bias)\n",
    "        \n",
    "        z = a_bias.dot(theta.T)  # add weights to each activation per neuron\n",
    "        weighted_outputs.append(z)\n",
    "        \n",
    "        a = sigmoid(z)           # h(x) out of each neuron in the layer (also the activations for next layer)\n",
    "    \n",
    "\n",
    "    outputs = a # final outputs\n",
    "    \n",
    "    return (activations,weighted_outputs,outputs)\n",
    "    "
   ]
  },
  {
   "cell_type": "markdown",
   "metadata": {},
   "source": [
    "### Cost Function for Regularized Logistic Regression\n",
    "\n",
    "The learning algorithm seeks to minimize this cost function.\n",
    "\n",
    "$ J(\\theta) = - \\dfrac{1}{m} \\sum\\limits_{i=1}^{m} \\sum\\limits_{j=1}^{J} [t_i \\ log(h_\\theta(x_{ij})) + (1 - t_{ij}) \\ log(1-h_\\theta(x_{ij}))] + \\dfrac{\\lambda}{2m} \\sum\\limits_{k=1}^{K} \\theta_{k}^2 $\n",
    "\n",
    "Where:\n",
    "* $\\theta$ are the weight terms\n",
    "* $m$ is the number of training examples\n",
    "* $J$ is the number of output nodes\n",
    "* $K$ is the number of weight terms across all nodes (not including the bias values)\n",
    "* $\\lambda$ is the regularization parameter\n",
    "* $t$ is the target output\n",
    "* $h(\\theta)$ is the predicted output, or hypothesis function\n"
   ]
  },
  {
   "cell_type": "code",
   "execution_count": 9,
   "metadata": {
    "collapsed": true
   },
   "outputs": [],
   "source": [
    "# X is a 2D array of inputs for each sample\n",
    "# ideal is a 2D array of ideal values for each sample\n",
    "# lambd is the regularizaion parameter\n",
    "# thetas is a list of 2d arrays of theta, starting at the \"input -> first layer\" theta\n",
    "def cost(X,ideal,lambd,thetas):\n",
    "    \n",
    "    (activations,weighted_outputs,predicted) = predict(X,thetas)\n",
    "\n",
    "    m = ideal.shape[0] # Numer of samples\n",
    "    \n",
    "    J = (1/m) *  sum(sum(  (-ideal * np.log(predicted) - (1 - ideal) * np.log(1-predicted)) ));\n",
    "        \n",
    "    # Sum all the theta values together, except the regularized terms\n",
    "    sumThetas = 0\n",
    "    for theta in thetas:\n",
    "        sumThetas += sum(sum( theta[:,1:] * theta[:,1:] ))\n",
    "        \n",
    "    # Regularised cost function \n",
    "    r = (lambd/(2*m)) * (sumThetas);\n",
    "    \n",
    "    return J + r"
   ]
  },
  {
   "cell_type": "markdown",
   "metadata": {},
   "source": [
    "### Backpropagation\n",
    "\n",
    "The _grads_ function returns the gradients of the cost function by \"backpropagation\". First the forward pass is run (using the \"predict\" function). This computes all the activation terms, for all nodes in the network.\n",
    "\n",
    "Then the gradients of the error terms are calculated and summed over all the training samples. The code shows different calculations for output layers (where the target output value is known), and the hidden layers (where the target value has to propagate down from the output layer).\n",
    "\n",
    "The gradient of the cost function (the return value of this function) is then calculated as:\n",
    "\n",
    "$\\dfrac {\\partial}{\\partial \\theta}  J(\\theta) = \\dfrac{1}{m} \\Delta $ for the output layer\n",
    "\n",
    "$\\dfrac {\\partial}{\\partial \\theta}  J(\\theta) = \\dfrac{1}{m} \\Delta  + \\dfrac{\\lambda}{m} \\theta$ for the hidden layers\n",
    "\n",
    "For each neuron\n",
    "Where:\n",
    "* $m$ is the number of data samples\n",
    "* $\\lambda$ is the regularization parameter\n",
    "* $\\Delta$ are the accumulated gradients (for all test samples)\n",
    "\n"
   ]
  },
  {
   "cell_type": "code",
   "execution_count": 10,
   "metadata": {
    "collapsed": false
   },
   "outputs": [],
   "source": [
    "def grads(X,Y,lambd,thetas):\n",
    "    \n",
    "    m = X.shape[0]\n",
    "    Xb =  addOnes(X)\n",
    "    deltas = []\n",
    "    \n",
    "    # Init the deltas\n",
    "    for theta in thetas:\n",
    "        deltas.append(np.zeros(theta.shape))\n",
    "    \n",
    "    # Make predictions\n",
    "    (activations,weighted_outputs,outputs) = predict(X,thetas)\n",
    "    \n",
    "    # Backpropogation\n",
    "    for t in range(0,m): # for every data row\n",
    "\n",
    "        # Output layer\n",
    "        deltaOut = np.array([(outputs[t] - Y[t,:])])\n",
    "        deltas[-1] = deltas[-1] + deltaOut.T.dot(np.array([ activations[-1][t] ]))\n",
    "        \n",
    "        # Work backwards through hidden layers\n",
    "        dLast = deltaOut\n",
    "        for layer in range(len(deltas) -2,-1,-1):\n",
    "            \n",
    "            a = np.array([ activations[layer][t] ])\n",
    "            z = np.array([ weighted_outputs[layer][t] ])    \n",
    "            d = (thetas[layer + 1].T.dot(dLast.T))[1:].T * sigmoidDerivative(z);\n",
    "            deltas[layer] = deltas[layer] + d.T.dot(a)\n",
    "            \n",
    "            dLast = d\n",
    "    \n",
    "    return [ (1/m)*deltas[i] + (lambd/m) * addZeros(thetas[i][:,1:]) for i in range(0,len(deltas)) ]\n"
   ]
  },
  {
   "cell_type": "markdown",
   "metadata": {},
   "source": [
    "### The Data\n",
    "\n",
    "The data source is a selection of [1593 handwritten digits](https://archive.ics.uci.edu/ml/machine-learning-databases/semeion/semeion.names).  The data consists of rows of digit data with each row containing a 16x16 pixel image (the first 256 columns), followed by 10 digits of ones and zeros, representing the Y value."
   ]
  },
  {
   "cell_type": "markdown",
   "metadata": {},
   "source": [
    "Y values are stored as ten columns of data. \"1\" in the first column signifies zero, a \"1\" in the second signifies two and so on."
   ]
  },
  {
   "cell_type": "code",
   "execution_count": 11,
   "metadata": {
    "collapsed": true
   },
   "outputs": [],
   "source": [
    "def ansToDigit(y):\n",
    "    ans = (y > 0.5).astype(int)\n",
    "    for i in range(10):\n",
    "        if ans[i] == 1: return i\n",
    "    return 0"
   ]
  },
  {
   "cell_type": "markdown",
   "metadata": {},
   "source": [
    "The data is extracted from the given URL. It is then split into Dev and Test data. The Dev data being used for training, while the Test data is used to check the results of the training."
   ]
  },
  {
   "cell_type": "code",
   "execution_count": 12,
   "metadata": {
    "collapsed": false
   },
   "outputs": [
    {
     "name": "stdout",
     "output_type": "stream",
     "text": [
      "X data: (1593, 256)\n",
      "Y data: (1593, 10)\n"
     ]
    }
   ],
   "source": [
    "# data description:\n",
    "# https://archive.ics.uci.edu/ml/machine-learning-databases/semeion/semeion.names\n",
    "dataSource = (\n",
    "  'https://archive.ics.uci.edu/ml/machine-learning-databases/semeion/semeion.data'\n",
    ")\n",
    "data = np.loadtxt(urllib.request.urlopen(dataSource).readlines())\n",
    "X = data[:,0:256].astype(int)\n",
    "Y = data[:,256:].astype(int)\n",
    "print(\"X data:\",X.shape)\n",
    "print(\"Y data:\",Y.shape)\n",
    "\n",
    "\n",
    "# Shuffle the values\n",
    "XShuffled = []\n",
    "YShuffled = []\n",
    "indexes = np.random.permutation(len(Y))\n",
    "\n",
    "for i in indexes:\n",
    "    XShuffled.append(X[i])\n",
    "    YShuffled.append(Y[i])\n",
    "\n",
    "# Use most for dev and 100 for test\n",
    "XDev  = np.array(XShuffled[0:-100])\n",
    "YDev  = np.array(YShuffled[0:-100])\n",
    "XTest = np.array(XShuffled[-100:])\n",
    "YTest = np.array(YShuffled[-100:])\n"
   ]
  },
  {
   "cell_type": "markdown",
   "metadata": {},
   "source": [
    "### System Initialization\n",
    "\n",
    "Initial values of $\\theta$ (the weights) are set. The input layer is of a known size (the 256 pixels of the images), as is the output layer (10 outputs representing the output number).  However the number of hidden layers and the nodes per hidden layer can be of any size we choose. One hidden layer is usually acceptable for such a case, however two hidden layers are used here, by way of an example. The only representation of these sizes in the code is in the size of these weights arrays (theta1, theta2, etc), which can be changed as required."
   ]
  },
  {
   "cell_type": "code",
   "execution_count": 13,
   "metadata": {
    "collapsed": false
   },
   "outputs": [],
   "source": [
    "# Seed weights with random numbers\n",
    "np.random.seed(1)\n",
    "hiddenLayer1Size = 30\n",
    "hiddenLayer2Size = 20\n",
    "\n",
    "theta1   = initWeights(hiddenLayer1Size,XDev.shape[1]+1)   # between input and hidden layer\n",
    "theta2   = initWeights(hiddenLayer2Size,hiddenLayer1Size+1) # between hidden layer and output\n",
    "theta3   = initWeights(Y.shape[1],hiddenLayer2Size+1) # between hidden layer and output\n",
    "thetas   = [ theta1,theta2,theta3 ]\n"
   ]
  },
  {
   "cell_type": "markdown",
   "metadata": {},
   "source": [
    "### The Learning Phase\n",
    "\n",
    "The code below puts the training (Dev data) dataset through the learning algorithm, updates the weights, then tests its performance using the testing dataset.  It loops through this process 300 times, which is enough to bring the performance of the tests to an acceptable level.\n",
    "\n",
    "The weights are updated by simply subtracting the error gradients.  More complex algorithms are available which can improve the efficiency here."
   ]
  },
  {
   "cell_type": "code",
   "execution_count": 14,
   "metadata": {
    "collapsed": false
   },
   "outputs": [
    {
     "name": "stdout",
     "output_type": "stream",
     "text": [
      ".............................."
     ]
    }
   ],
   "source": [
    "# Try out the cost function\n",
    "\n",
    "lambd = 0.1\n",
    "devCosts = []\n",
    "\n",
    "testAccuracies = []\n",
    "\n",
    "for i in range(0,300):\n",
    "    J = cost(XDev,YDev,lambd,thetas)\n",
    "    (theta1Grad,theta2Grad,theta3Grad) = grads(XDev,YDev,lambd,thetas)\n",
    "    if i % 10 == 0: print('.', end=\"\")\n",
    "    \n",
    "    theta1 = theta1 - theta1Grad\n",
    "    theta2 = theta2 - theta2Grad\n",
    "    theta3 = theta3 - theta3Grad\n",
    "    \n",
    "    thetas = [ theta1,theta2,theta3]\n",
    "    devCosts.append(J)\n",
    "    \n",
    "    \n",
    "    # Run test against test data\n",
    "    (activations,weighted_outputs,outputs) = predict(XTest,thetas)\n",
    "    answers = convertOutputs(outputs)\n",
    "    right = wrong = 0\n",
    "    \n",
    "    for k in range(0,len(outputs)):\n",
    "        if np.array_equal(np.array(YTest[k]),np.array(answers[k])): right +=1\n",
    "        else: wrong +=1\n",
    "    testAccuracies.append(right/(right+wrong))"
   ]
  },
  {
   "cell_type": "markdown",
   "metadata": {
    "collapsed": true
   },
   "source": [
    "Plot of the cost against the number of iterations"
   ]
  },
  {
   "cell_type": "code",
   "execution_count": 15,
   "metadata": {
    "collapsed": false
   },
   "outputs": [
    {
     "data": {
      "image/png": "[encoded data removed]",
      "text/plain": [
       "<matplotlib.figure.Figure at 0x7f71ba5a8a58>"
      ]
     },
     "metadata": {},
     "output_type": "display_data"
    }
   ],
   "source": [
    "plt.plot(devCosts)\n",
    "plt.show()"
   ]
  },
  {
   "cell_type": "markdown",
   "metadata": {
    "collapsed": true
   },
   "source": [
    "Plot of the accurancy on the test data against the number of iterations"
   ]
  },
  {
   "cell_type": "code",
   "execution_count": 16,
   "metadata": {
    "collapsed": false
   },
   "outputs": [
    {
     "data": {
      "image/png": "[encoded data removed]",
      "text/plain": [
       "<matplotlib.figure.Figure at 0x7f71badd3cc0>"
      ]
     },
     "metadata": {},
     "output_type": "display_data"
    }
   ],
   "source": [
    "plt.plot(testAccuracies)\n",
    "plt.show()"
   ]
  },
  {
   "cell_type": "markdown",
   "metadata": {},
   "source": [
    "### Prediction\n",
    "\n",
    "Now the weights are set, these values can be used to make predictions. Here, 5 samples are selected from the Test data set and are run through the prediction algorithm.  Note that the prediction of new data is relatively quick.  The hard work has already been done in setting the weights."
   ]
  },
  {
   "cell_type": "code",
   "execution_count": 17,
   "metadata": {
    "collapsed": false
   },
   "outputs": [
    {
     "name": "stdout",
     "output_type": "stream",
     "text": [
      "Actual:   7\n",
      "Guess:    7\n"
     ]
    },
    {
     "data": {
      "image/png": "[encoded data removed]",
      "text/plain": [
       "<matplotlib.figure.Figure at 0x7f71bb7e6048>"
      ]
     },
     "metadata": {},
     "output_type": "display_data"
    },
    {
     "name": "stdout",
     "output_type": "stream",
     "text": [
      "-------------------------------\n",
      "Actual:   8\n",
      "Guess:    3\n"
     ]
    },
    {
     "data": {
      "image/png": "[encoded data removed]",
      "text/plain": [
       "<matplotlib.figure.Figure at 0x7f71baf57cc0>"
      ]
     },
     "metadata": {},
     "output_type": "display_data"
    },
    {
     "name": "stdout",
     "output_type": "stream",
     "text": [
      "-------------------------------\n",
      "Actual:   5\n",
      "Guess:    4\n"
     ]
    },
    {
     "data": {
      "image/png": "[encoded data removed]",
      "text/plain": [
       "<matplotlib.figure.Figure at 0x7f71baf3fa58>"
      ]
     },
     "metadata": {},
     "output_type": "display_data"
    },
    {
     "name": "stdout",
     "output_type": "stream",
     "text": [
      "-------------------------------\n",
      "Actual:   3\n",
      "Guess:    3\n"
     ]
    },
    {
     "data": {
      "image/png": "[encoded data removed]",
      "text/plain": [
       "<matplotlib.figure.Figure at 0x7f71bae5ef98>"
      ]
     },
     "metadata": {},
     "output_type": "display_data"
    },
    {
     "name": "stdout",
     "output_type": "stream",
     "text": [
      "-------------------------------\n",
      "Actual:   7\n",
      "Guess:    7\n"
     ]
    },
    {
     "data": {
      "image/png": "[encoded data removed]",
      "text/plain": [
       "<matplotlib.figure.Figure at 0x7f71badccd68>"
      ]
     },
     "metadata": {},
     "output_type": "display_data"
    },
    {
     "name": "stdout",
     "output_type": "stream",
     "text": [
      "-------------------------------\n",
      "Right: 3\n",
      "Wrong: 2\n",
      "Accuracy: 60%\n"
     ]
    }
   ],
   "source": [
    "\n",
    "\n",
    "m = XTest.shape[0]\n",
    "\n",
    "right = 0\n",
    "wrong = 0\n",
    "\n",
    "for t in range(5):\n",
    "    \n",
    "    (activations,weighted_outputs,outputs) = predict(np.array([ XTest[t] ]),thetas)\n",
    "    \n",
    "    yDigit   = ansToDigit(YTest[t])\n",
    "    ansDigit = ansToDigit(outputs[0])\n",
    "    print(\"Actual:  \",yDigit)\n",
    "    print(\"Guess:   \", ansDigit)\n",
    "\n",
    "    np.array([ XTest[t] ])\n",
    "    \n",
    "    plt.imshow(np.array([ XTest[t] ]).reshape(16,16))\n",
    "    plt.show()\n",
    "    print(\"-------------------------------\")\n",
    "    \n",
    "    if yDigit == ansDigit: right +=1\n",
    "    else: wrong +=1\n",
    "\n",
    "print(\"Right:\",right)\n",
    "print(\"Wrong:\",wrong)\n",
    "print(\"Accuracy: %i%%\" % (right*100/(right+wrong)) )\n"
   ]
  },
  {
   "cell_type": "markdown",
   "metadata": {
    "collapsed": true
   },
   "source": [
    "## Conclusion\n",
    "\n",
    "Deep learning code need not be overly long.  Here we have shown an example which is small, yet makes reasonable predictions on hand written digits.\n",
    "\n",
    "The algorithms used are not specifically for handwriting recognition, so this same code could easily be used for other Deep Learning applications.\n",
    "\n",
    "For real world applications it may be prudent to use existing libraries which;\n",
    "\n",
    "* are be better optimized for the given hardware\n",
    "* have been more thoroughly tested\n",
    "* contain more complex algorithms for faster gradient decent\n",
    "\n",
    "## The Code\n",
    "\n",
    "The complete code and description can be downloaded in the form of a [Jupyter notebook](https://nbviewer.jupyter.org/github/douglas-gibbons/douglas-gibbons.github.io/tree/master/notebooks/Deep%20Learning%20from%20Scratch%20With%20Python.ipynb)"
   ]
  }
 ],
 "metadata": {
  "kernelspec": {
   "display_name": "Python 3",
   "language": "python",
   "name": "python3"
  },
  "language_info": {
   "codemirror_mode": {
    "name": "ipython",
    "version": 3
   },
   "file_extension": ".py",
   "mimetype": "text/x-python",
   "name": "python",
   "nbconvert_exporter": "python",
   "pygments_lexer": "ipython3",
   "version": "3.5.2"
  }
 },
 "nbformat": 4,
 "nbformat_minor": 1
}
